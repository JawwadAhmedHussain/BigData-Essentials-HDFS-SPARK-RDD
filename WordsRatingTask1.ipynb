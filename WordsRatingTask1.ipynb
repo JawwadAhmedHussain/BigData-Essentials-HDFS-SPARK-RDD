{
 "cells": [
  {
   "cell_type": "markdown",
   "metadata": {
    "colab_type": "text",
    "id": "Ebk-YqgqEOw1"
   },
   "source": [
    "# Hadoop Streaming assignment 1: Words Rating"
   ]
  },
  {
   "cell_type": "markdown",
   "metadata": {
    "colab_type": "text",
    "id": "XDLjl7hGEOw2"
   },
   "source": [
    "The purpose of this task is to create your own WordCount program for Wikipedia dump processing and learn basic concepts of the MapReduce.\n",
    "\n",
    "In this task you have to find the 7th word by popularity and its quantity in the reverse order (most popular first) in Wikipedia data (`/data/wiki/en_articles_part`).\n",
    "\n",
    "There are several points for this task:\n",
    "\n",
    "1) As an output, you have to get the 7th word and its quantity separated by a tab character.\n",
    "\n",
    "2) You must use the second job to obtain a totally ordered result.\n",
    "\n",
    "3) Do not forget to redirect all trash and output to /dev/null.\n",
    "\n",
    "Here you can find the draft of the task main steps. You can use other methods for solution obtaining."
   ]
  },
  {
   "cell_type": "markdown",
   "metadata": {
    "colab_type": "text",
    "id": "lIUikVIDEOw2"
   },
   "source": [
    "## Step 1. Create mapper and reducer.\n",
    "\n",
    "<b>Hint:</b>  Demo task contains almost all the necessary pieces to complete this assignment. You may use the demo to implement the first MapReduce Job."
   ]
  },
  {
   "cell_type": "code",
   "execution_count": 1,
   "metadata": {
    "colab": {
     "autoexec": {
      "startup": false,
      "wait_interval": 0
     }
    },
    "colab_type": "code",
    "id": "A7T5mxDwEOw4"
   },
   "outputs": [
    {
     "name": "stdout",
     "output_type": "stream",
     "text": [
      "Overwriting mapper1.py\n"
     ]
    }
   ],
   "source": [
    "%%writefile mapper1.py\n",
    "\n",
    "import sys\n",
    "import re\n",
    "\n",
    "reload(sys)\n",
    "sys.setdefaultencoding('utf-8')\n",
    "\n",
    "for line in sys.stdin:\n",
    "    try:\n",
    "        article_id, text = unicode(line.strip()).split('\\t', 1)\n",
    "    except ValueError as e:\n",
    "        continue\n",
    "    text = re.sub(\"^\\W+|\\W+$\", \"\", text, flags=re.UNICODE)\n",
    "    words = re.split(\"\\W*\\s+\\W*\", text, flags=re.UNICODE)\n",
    "    index = 0\n",
    "    for word in words:\n",
    "        print >> sys.stderr, \"reporter:counter:Wiki stats,Total words,%d\" % 1\n",
    "        print >> sys.stderr, \"reporter:status:processed %d words\" % index\n",
    "        index += 1\n",
    "        #print (word.lower(),1,sep=\"\\t\")\n",
    "        print \"%s\\t%d\" % (word.lower(),1)"
   ]
  },
  {
   "cell_type": "code",
   "execution_count": 2,
   "metadata": {
    "colab": {
     "autoexec": {
      "startup": false,
      "wait_interval": 0
     }
    },
    "colab_type": "code",
    "id": "oE8KFKqpEOw5"
   },
   "outputs": [
    {
     "name": "stdout",
     "output_type": "stream",
     "text": [
      "Overwriting reducer1.py\n"
     ]
    }
   ],
   "source": [
    "%%writefile reducer1.py\n",
    "\n",
    "#from __future__ import print_function\n",
    "import sys\n",
    "\n",
    "current_key = None\n",
    "word_sum = 0\n",
    "\n",
    "for line in sys.stdin:\n",
    "    try:\n",
    "        key, count =line.strip().split('\\t',1)\n",
    "        count = int(count)\n",
    "    except ValueError as e:\n",
    "        continue\n",
    "    if current_key != key:\n",
    "        if current_key:\n",
    "            print \"%s\\t%d\" % (current_key, word_sum)\n",
    "            #print(current_key, word_sum,sep=\"\\t\")\n",
    "        word_sum = 0\n",
    "        current_key = key\n",
    "    word_sum += count\n",
    "\n",
    "if current_key:\n",
    "    print \"%s\\t%d\" % (current_key, word_sum)\n",
    "    #print(current_key, word_sum,sep=\"\\t\") '''   "
   ]
  },
  {
   "cell_type": "code",
   "execution_count": 3,
   "metadata": {
    "colab": {
     "autoexec": {
      "startup": false,
      "wait_interval": 0
     }
    },
    "colab_type": "code",
    "id": "LJtc3_u0uXSz"
   },
   "outputs": [],
   "source": [
    "# You can use this cell for other experiments: for example, for combiner."
   ]
  },
  {
   "cell_type": "markdown",
   "metadata": {
    "colab_type": "text",
    "id": "KYZpcwY9EOw6"
   },
   "source": [
    "## Step 2. Create sort job.\n",
    "\n",
    "<b>Hint:</b> You may use MapReduce comparator to solve this step. Make sure that the keys are sorted in ascending order."
   ]
  },
  {
   "cell_type": "code",
   "execution_count": 4,
   "metadata": {
    "colab": {
     "autoexec": {
      "startup": false,
      "wait_interval": 0
     }
    },
    "colab_type": "code",
    "id": "g-NMzQ79EOw7"
   },
   "outputs": [
    {
     "name": "stdout",
     "output_type": "stream",
     "text": [
      "Overwriting mapper2.py\n"
     ]
    }
   ],
   "source": [
    "%%writefile mapper2.py\n",
    "\n",
    "import sys\n",
    "\n",
    "for line in sys.stdin:\n",
    "    try:\n",
    "        key, count =line.strip().split('\\t',1)\n",
    "        count = int(count)\n",
    "    except ValueError as e:\n",
    "        continue\n",
    "    print \"%d\\t%s\\t%d\" % (count,key,0)\n",
    "    \n",
    "# Your code for sort job here. Don't forget to use magic writefile"
   ]
  },
  {
   "cell_type": "code",
   "execution_count": 5,
   "metadata": {
    "colab": {
     "autoexec": {
      "startup": false,
      "wait_interval": 0
     }
    },
    "colab_type": "code",
    "id": "qs6SKs7wO4be"
   },
   "outputs": [
    {
     "name": "stdout",
     "output_type": "stream",
     "text": [
      "Overwriting reducer2.py\n"
     ]
    }
   ],
   "source": [
    "%%writefile reducer2.py\n",
    "import sys\n",
    "\n",
    "for line in sys.stdin:\n",
    "    try:\n",
    "        count, key,temp =line.strip().split('\\t',2)\n",
    "        count = int(count)\n",
    "    except ValueError as e:\n",
    "        continue\n",
    "    print \"%s\\t%d\" % (key,count)"
   ]
  },
  {
   "cell_type": "markdown",
   "metadata": {
    "colab_type": "text",
    "id": "4OBE81GZEOw8"
   },
   "source": [
    "## Step 3. Bash commands\n",
    "\n",
    "<b> Hint: </b> For printing the exact row you may use basic UNIX commands. For instance, sed/head/tail/... (if you know other commands, you can use them).\n",
    "\n",
    "To run both jobs, you must use two consecutive yarn-commands. Remember that the input for the second job is the ouput for the first job."
   ]
  },
  {
   "cell_type": "code",
   "execution_count": 6,
   "metadata": {
    "colab": {
     "autoexec": {
      "startup": false,
      "wait_interval": 0
     }
    },
    "colab_type": "code",
    "id": "1q9NczdIEOw9",
    "scrolled": true
   },
   "outputs": [
    {
     "name": "stdout",
     "output_type": "stream",
     "text": [
      "is\t126420\n"
     ]
    },
    {
     "name": "stderr",
     "output_type": "stream",
     "text": [
      "rm: `assignment1_1580985846257808*': No such file or directory\n",
      "20/02/06 10:44:09 INFO client.RMProxy: Connecting to ResourceManager at /0.0.0.0:8032\n",
      "20/02/06 10:44:09 INFO client.RMProxy: Connecting to ResourceManager at /0.0.0.0:8032\n",
      "20/02/06 10:44:10 INFO mapred.FileInputFormat: Total input files to process : 1\n",
      "20/02/06 10:44:10 INFO mapreduce.JobSubmitter: number of splits:2\n",
      "20/02/06 10:44:10 INFO Configuration.deprecation: mapred.job.name is deprecated. Instead, use mapreduce.job.name\n",
      "20/02/06 10:44:10 INFO mapreduce.JobSubmitter: Submitting tokens for job: job_1580979577582_0005\n",
      "20/02/06 10:44:11 INFO impl.YarnClientImpl: Submitted application application_1580979577582_0005\n",
      "20/02/06 10:44:11 INFO mapreduce.Job: The url to track the job: http://6169cd1e4e0b:8088/proxy/application_1580979577582_0005/\n",
      "20/02/06 10:44:11 INFO mapreduce.Job: Running job: job_1580979577582_0005\n",
      "20/02/06 10:44:17 INFO mapreduce.Job: Job job_1580979577582_0005 running in uber mode : false\n",
      "20/02/06 10:44:17 INFO mapreduce.Job:  map 0% reduce 0%\n",
      "20/02/06 10:44:35 INFO mapreduce.Job:  map 5% reduce 0%\n",
      "20/02/06 10:44:36 INFO mapreduce.Job:  map 10% reduce 0%\n",
      "20/02/06 10:44:41 INFO mapreduce.Job:  map 12% reduce 0%\n",
      "20/02/06 10:44:42 INFO mapreduce.Job:  map 15% reduce 0%\n",
      "20/02/06 10:44:47 INFO mapreduce.Job:  map 17% reduce 0%\n",
      "20/02/06 10:44:48 INFO mapreduce.Job:  map 19% reduce 0%\n",
      "20/02/06 10:44:53 INFO mapreduce.Job:  map 24% reduce 0%\n",
      "20/02/06 10:44:59 INFO mapreduce.Job:  map 29% reduce 0%\n",
      "20/02/06 10:45:05 INFO mapreduce.Job:  map 34% reduce 0%\n",
      "20/02/06 10:45:11 INFO mapreduce.Job:  map 39% reduce 0%\n",
      "20/02/06 10:45:17 INFO mapreduce.Job:  map 41% reduce 0%\n",
      "20/02/06 10:45:23 INFO mapreduce.Job:  map 43% reduce 0%\n",
      "20/02/06 10:45:29 INFO mapreduce.Job:  map 45% reduce 0%\n",
      "20/02/06 10:45:35 INFO mapreduce.Job:  map 48% reduce 0%\n",
      "20/02/06 10:45:41 INFO mapreduce.Job:  map 52% reduce 0%\n",
      "20/02/06 10:45:47 INFO mapreduce.Job:  map 57% reduce 0%\n",
      "20/02/06 10:45:54 INFO mapreduce.Job:  map 62% reduce 0%\n",
      "20/02/06 10:46:00 INFO mapreduce.Job:  map 66% reduce 0%\n",
      "20/02/06 10:46:06 INFO mapreduce.Job:  map 67% reduce 0%\n",
      "20/02/06 10:46:08 INFO mapreduce.Job:  map 83% reduce 0%\n",
      "20/02/06 10:46:09 INFO mapreduce.Job:  map 100% reduce 0%\n",
      "20/02/06 10:46:17 INFO mapreduce.Job:  map 100% reduce 13%\n",
      "20/02/06 10:46:23 INFO mapreduce.Job:  map 100% reduce 25%\n",
      "20/02/06 10:46:26 INFO mapreduce.Job:  map 100% reduce 38%\n",
      "20/02/06 10:46:28 INFO mapreduce.Job:  map 100% reduce 50%\n",
      "20/02/06 10:46:29 INFO mapreduce.Job:  map 100% reduce 63%\n",
      "20/02/06 10:46:30 INFO mapreduce.Job:  map 100% reduce 75%\n",
      "20/02/06 10:46:31 INFO mapreduce.Job:  map 100% reduce 88%\n",
      "20/02/06 10:46:32 INFO mapreduce.Job:  map 100% reduce 100%\n",
      "20/02/06 10:46:34 INFO mapreduce.Job: Job job_1580979577582_0005 completed successfully\n",
      "20/02/06 10:46:34 INFO mapreduce.Job: Counters: 51\n",
      "\tFile System Counters\n",
      "\t\tFILE: Number of bytes read=17941178\n",
      "\t\tFILE: Number of bytes written=28230275\n",
      "\t\tFILE: Number of read operations=0\n",
      "\t\tFILE: Number of large read operations=0\n",
      "\t\tFILE: Number of write operations=0\n",
      "\t\tHDFS: Number of bytes read=76874501\n",
      "\t\tHDFS: Number of bytes written=5363834\n",
      "\t\tHDFS: Number of read operations=30\n",
      "\t\tHDFS: Number of large read operations=0\n",
      "\t\tHDFS: Number of write operations=16\n",
      "\tJob Counters \n",
      "\t\tKilled reduce tasks=1\n",
      "\t\tLaunched map tasks=2\n",
      "\t\tLaunched reduce tasks=9\n",
      "\t\tData-local map tasks=2\n",
      "\t\tTotal time spent by all maps in occupied slots (ms)=217413\n",
      "\t\tTotal time spent by all reduces in occupied slots (ms)=96014\n",
      "\t\tTotal time spent by all map tasks (ms)=217413\n",
      "\t\tTotal time spent by all reduce tasks (ms)=96014\n",
      "\t\tTotal vcore-milliseconds taken by all map tasks=217413\n",
      "\t\tTotal vcore-milliseconds taken by all reduce tasks=96014\n",
      "\t\tTotal megabyte-milliseconds taken by all map tasks=222630912\n",
      "\t\tTotal megabyte-milliseconds taken by all reduce tasks=98318336\n",
      "\tMap-Reduce Framework\n",
      "\t\tMap input records=4100\n",
      "\t\tMap output records=11937317\n",
      "\t\tMap output bytes=97841276\n",
      "\t\tMap output materialized bytes=8944117\n",
      "\t\tInput split bytes=228\n",
      "\t\tCombine input records=11937317\n",
      "\t\tCombine output records=639325\n",
      "\t\tReduce input groups=426552\n",
      "\t\tReduce shuffle bytes=8944117\n",
      "\t\tReduce input records=639325\n",
      "\t\tReduce output records=426552\n",
      "\t\tSpilled Records=1917975\n",
      "\t\tShuffled Maps =16\n",
      "\t\tFailed Shuffles=0\n",
      "\t\tMerged Map outputs=16\n",
      "\t\tGC time elapsed (ms)=2868\n",
      "\t\tCPU time spent (ms)=334610\n",
      "\t\tPhysical memory (bytes) snapshot=1913876480\n",
      "\t\tVirtual memory (bytes) snapshot=19665166336\n",
      "\t\tTotal committed heap usage (bytes)=1294467072\n",
      "\tShuffle Errors\n",
      "\t\tBAD_ID=0\n",
      "\t\tCONNECTION=0\n",
      "\t\tIO_ERROR=0\n",
      "\t\tWRONG_LENGTH=0\n",
      "\t\tWRONG_MAP=0\n",
      "\t\tWRONG_REDUCE=0\n",
      "\tWiki stats\n",
      "\t\tTotal words=11937317\n",
      "\tFile Input Format Counters \n",
      "\t\tBytes Read=76874273\n",
      "\tFile Output Format Counters \n",
      "\t\tBytes Written=5363834\n",
      "20/02/06 10:46:34 INFO streaming.StreamJob: Output directory: assignment1_1580985846257808\n",
      "20/02/06 10:46:36 INFO client.RMProxy: Connecting to ResourceManager at /0.0.0.0:8032\n",
      "20/02/06 10:46:36 INFO client.RMProxy: Connecting to ResourceManager at /0.0.0.0:8032\n",
      "20/02/06 10:46:37 INFO mapred.FileInputFormat: Total input files to process : 8\n",
      "20/02/06 10:46:38 INFO mapreduce.JobSubmitter: number of splits:8\n",
      "20/02/06 10:46:38 INFO Configuration.deprecation: mapred.job.name is deprecated. Instead, use mapreduce.job.name\n",
      "20/02/06 10:46:38 INFO mapreduce.JobSubmitter: Submitting tokens for job: job_1580979577582_0006\n",
      "20/02/06 10:46:38 INFO impl.YarnClientImpl: Submitted application application_1580979577582_0006\n",
      "20/02/06 10:46:38 INFO mapreduce.Job: The url to track the job: http://6169cd1e4e0b:8088/proxy/application_1580979577582_0006/\n",
      "20/02/06 10:46:38 INFO mapreduce.Job: Running job: job_1580979577582_0006\n",
      "20/02/06 10:46:46 INFO mapreduce.Job: Job job_1580979577582_0006 running in uber mode : false\n",
      "20/02/06 10:46:46 INFO mapreduce.Job:  map 0% reduce 0%\n",
      "20/02/06 10:47:01 INFO mapreduce.Job:  map 13% reduce 0%\n",
      "20/02/06 10:47:02 INFO mapreduce.Job:  map 75% reduce 0%\n",
      "20/02/06 10:47:09 INFO mapreduce.Job:  map 100% reduce 0%\n",
      "20/02/06 10:47:11 INFO mapreduce.Job:  map 100% reduce 100%\n",
      "20/02/06 10:47:12 INFO mapreduce.Job: Job job_1580979577582_0006 completed successfully\n",
      "20/02/06 10:47:12 INFO mapreduce.Job: Counters: 49\n",
      "\tFile System Counters\n",
      "\t\tFILE: Number of bytes read=7070071\n",
      "\t\tFILE: Number of bytes written=15400345\n",
      "\t\tFILE: Number of read operations=0\n",
      "\t\tFILE: Number of large read operations=0\n",
      "\t\tFILE: Number of write operations=0\n",
      "\t\tHDFS: Number of bytes read=5364834\n",
      "\t\tHDFS: Number of bytes written=5363834\n",
      "\t\tHDFS: Number of read operations=27\n",
      "\t\tHDFS: Number of large read operations=0\n",
      "\t\tHDFS: Number of write operations=2\n",
      "\tJob Counters \n",
      "\t\tLaunched map tasks=8\n",
      "\t\tLaunched reduce tasks=1\n",
      "\t\tData-local map tasks=8\n",
      "\t\tTotal time spent by all maps in occupied slots (ms)=92629\n",
      "\t\tTotal time spent by all reduces in occupied slots (ms)=6744\n",
      "\t\tTotal time spent by all map tasks (ms)=92629\n",
      "\t\tTotal time spent by all reduce tasks (ms)=6744\n",
      "\t\tTotal vcore-milliseconds taken by all map tasks=92629\n",
      "\t\tTotal vcore-milliseconds taken by all reduce tasks=6744\n",
      "\t\tTotal megabyte-milliseconds taken by all map tasks=94852096\n",
      "\t\tTotal megabyte-milliseconds taken by all reduce tasks=6905856\n",
      "\tMap-Reduce Framework\n",
      "\t\tMap input records=426552\n",
      "\t\tMap output records=426552\n",
      "\t\tMap output bytes=6216949\n",
      "\t\tMap output materialized bytes=7070113\n",
      "\t\tInput split bytes=1000\n",
      "\t\tCombine input records=0\n",
      "\t\tCombine output records=0\n",
      "\t\tReduce input groups=2048\n",
      "\t\tReduce shuffle bytes=7070113\n",
      "\t\tReduce input records=426552\n",
      "\t\tReduce output records=426552\n",
      "\t\tSpilled Records=853104\n",
      "\t\tShuffled Maps =8\n",
      "\t\tFailed Shuffles=0\n",
      "\t\tMerged Map outputs=8\n",
      "\t\tGC time elapsed (ms)=1731\n",
      "\t\tCPU time spent (ms)=15260\n",
      "\t\tPhysical memory (bytes) snapshot=2295328768\n",
      "\t\tVirtual memory (bytes) snapshot=17649201152\n",
      "\t\tTotal committed heap usage (bytes)=1708654592\n",
      "\tShuffle Errors\n",
      "\t\tBAD_ID=0\n",
      "\t\tCONNECTION=0\n",
      "\t\tIO_ERROR=0\n",
      "\t\tWRONG_LENGTH=0\n",
      "\t\tWRONG_MAP=0\n",
      "\t\tWRONG_REDUCE=0\n",
      "\tFile Input Format Counters \n",
      "\t\tBytes Read=5363834\n",
      "\tFile Output Format Counters \n",
      "\t\tBytes Written=5363834\n",
      "20/02/06 10:47:12 INFO streaming.StreamJob: Output directory: Fassignment1_1580985994785581\n",
      "cat: Unable to write to output stream.\n"
     ]
    }
   ],
   "source": [
    "%%bash\n",
    "\n",
    "OUT_DIR=\"assignment1_\"$(date +\"%s%6N\")\n",
    "STREAMING_JAR=\"/opt/cloudera/parcels/CDH/lib/hadoop-mapreduce/hadoop-streaming.jar\"\n",
    "STREAMING_JAR=\"/usr/local/hadoop-2.8.1/hadoop-streaming.jar\"\n",
    "\n",
    "hdfs dfs -rm -r -skipTrash ${OUT_DIR}* > /dev/null\n",
    "# Code for your first job\n",
    "# yarn jar /usr/local/hadoop-2.8.1/hadoop-streaming.jar \\\n",
    "yarn jar /opt/cloudera/parcels/CDH/lib/hadoop-mapreduce/hadoop-streaming.jar \\\n",
    "    -D mapred.job.name=\"Streaming wordrating\" \\\n",
    "    -D mapreduce.job.maps=2 \\\n",
    "    -D mapreduce.job.reduces=8 \\\n",
    "    -files mapper1.py,reducer1.py \\\n",
    "    -mapper \"python mapper1.py\" \\\n",
    "    -reducer \"python reducer1.py\" \\\n",
    "    -combiner \"python reducer1.py\" \\\n",
    "    -input /data/wiki/en_articles_part \\\n",
    "    -output ${OUT_DIR} > /dev/null\n",
    "    \n",
    "    #-D mapreduce.partition.keycomparator.option=-k1,1 -k2,2nr\n",
    "\n",
    "# Code for your second job\n",
    "\n",
    "OUT_DIR2=\"Fassignment1_\"$(date +\"%s%6N\")\n",
    "\n",
    "# yarn jar /usr/local/hadoop-2.8.1/hadoop-streaming.jar \\\n",
    "yarn jar /opt/cloudera/parcels/CDH/lib/hadoop-mapreduce/hadoop-streaming.jar \\\n",
    "    -D mapred.job.name=\"Streaming wordrating 2\" \\\n",
    "    -D mapreduce.job.reduces=1 \\\n",
    "    -D mapreduce.job.output.key.comparator.class=org.apache.hadoop.mapreduce.lib.partition.KeyFieldBasedComparator \\\n",
    "    -D mapreduce.map.output.key.field.separator=\\t \\\n",
    "    -D mapreduce.partition.keycomparator.options=\"-k1,1nr\" \\\n",
    "    -files mapper2.py,reducer2.py \\\n",
    "    -mapper \"python mapper2.py\" \\\n",
    "    -reducer \"python reducer2.py\" \\\n",
    "    -input ${OUT_DIR}/part-* \\\n",
    "    -output ${OUT_DIR2} > /dev/null\n",
    "\n",
    "\n",
    "#     -D mapreduce.job.maps=2 \\\n",
    "#     -D stream.map.output.field.separator=. \\\n",
    "#     -D stream.num.map.output.key.fields=3 \\\n",
    "#     -D stream.reduce.input.field.separator=. \\\n",
    "#     -D stream.reduce.output.field.separator=. \\\n",
    "#     -D stream.num.reduce.output.key.fields=3 \\\n",
    "# Code for obtaining the results\n",
    "hdfs dfs -cat ${OUT_DIR2}/part-00000 | sed -n '7p;8q'\n",
    "hdfs dfs -rm -r -skipTrash ${OUT_DIR}* > /dev/null\n",
    "hdfs dfs -rm -r -skipTrash ${OUT_DIR2}* > /dev/null"
   ]
  },
  {
   "cell_type": "code",
   "execution_count": null,
   "metadata": {},
   "outputs": [],
   "source": []
  },
  {
   "cell_type": "code",
   "execution_count": null,
   "metadata": {},
   "outputs": [],
   "source": []
  },
  {
   "cell_type": "code",
   "execution_count": null,
   "metadata": {},
   "outputs": [],
   "source": []
  }
 ],
 "metadata": {
  "celltoolbar": "Raw Cell Format",
  "colab": {
   "collapsed_sections": [],
   "default_view": {},
   "name": "701_to_students.ipynb",
   "provenance": [],
   "version": "0.3.2",
   "views": {}
  },
  "kernelspec": {
   "display_name": "Python 2",
   "language": "python",
   "name": "python2"
  },
  "language_info": {
   "codemirror_mode": {
    "name": "ipython",
    "version": 2
   },
   "file_extension": ".py",
   "mimetype": "text/x-python",
   "name": "python",
   "nbconvert_exporter": "python",
   "pygments_lexer": "ipython2",
   "version": "2.7.12"
  }
 },
 "nbformat": 4,
 "nbformat_minor": 1
}
