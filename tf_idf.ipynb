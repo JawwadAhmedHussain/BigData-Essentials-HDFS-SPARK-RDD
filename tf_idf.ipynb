{
 "cells": [
  {
   "cell_type": "code",
   "execution_count": 1,
   "metadata": {
    "colab": {
     "autoexec": {
      "startup": false,
      "wait_interval": 0
     }
    },
    "colab_type": "code",
    "id": "KU56zkC0S80M"
   },
   "outputs": [
    {
     "name": "stdout",
     "output_type": "stream",
     "text": [
      "Overwriting mapper.py\n"
     ]
    }
   ],
   "source": [
    "%%writefile mapper.py\n",
    "\n",
    "from __future__ import division\n",
    "import sys\n",
    "import re\n",
    "from collections import Counter\n",
    "\n",
    "\n",
    "reload(sys)\n",
    "sys.setdefaultencoding('utf-8')  # required to convert to unicode\n",
    "path = 'stop_words_en.txt'\n",
    "with open(path) as f:\n",
    "    stop_words = f.read()\n",
    "stop_words = stop_words.split()\n",
    "for line in sys.stdin:\n",
    "    i=0\n",
    "    try:\n",
    "        article_id, text = unicode(line.strip()).split('\\t', 1)\n",
    "        article_id = int(article_id)\n",
    "    except ValueError as e:\n",
    "        continue\n",
    "    text = re.sub(\"^\\W+|\\W+$\", \"\", text, flags=re.UNICODE)\n",
    "    words = re.split(\"\\W*\\s+\\W*\", text, flags=re.UNICODE)\n",
    "    words = [x.lower() for x in words if x.lower() not in stop_words]\n",
    "    uniq_words = set(words)\n",
    "    words_in_articles = len(words)\n",
    "    counts = Counter(words)\n",
    "    for word, word_count in counts.items():\n",
    "        tf = word_count/words_in_articles\n",
    "        print \"%s\\t%d\\t%f\" % (word, article_id,tf)\n"
   ]
  },
  {
   "cell_type": "code",
   "execution_count": 2,
   "metadata": {
    "colab": {
     "autoexec": {
      "startup": false,
      "wait_interval": 0
     }
    },
    "colab_type": "code",
    "id": "yslvpwpfS80P"
   },
   "outputs": [
    {
     "name": "stdout",
     "output_type": "stream",
     "text": [
      "Overwriting reducer.py\n"
     ]
    }
   ],
   "source": [
    "%%writefile reducer.py\n",
    "from __future__ import division\n",
    "import sys\n",
    "from math import log\n",
    "\n",
    "\n",
    "\n",
    "current_key = None\n",
    "article_dict = dict()\n",
    "\n",
    "for line in sys.stdin:\n",
    "    try:\n",
    "        key, article_id,tf = line.strip().split('\\t',2)\n",
    "        article_id = int(article_id)\n",
    "        tf = float(tf)\n",
    "    except ValueError as e:\n",
    "        continue\n",
    "    if current_key != key:\n",
    "        if current_key:\n",
    "            idf = 1/log(1+len(article_dict))\n",
    "            for article_id_0, tf in article_dict.iteritems():\n",
    "                tf_idf = tf*idf\n",
    "                print \"%s\\t%d\\t%f\" % (current_key,article_id_0,tf_idf)\n",
    "        article_dict = dict()\n",
    "        current_key = key\n",
    "    article_dict[article_id] = tf\n",
    "    \n",
    "if current_key:\n",
    "    print \"%s\\t%d\\t%f\" % (current_key,article_id_0,tf_idf)"
   ]
  },
  {
   "cell_type": "code",
   "execution_count": 3,
   "metadata": {
    "colab": {
     "autoexec": {
      "startup": false,
      "wait_interval": 0
     }
    },
    "colab_type": "code",
    "id": "bG3omEqzS80S"
   },
   "outputs": [
    {
     "name": "stderr",
     "output_type": "stream",
     "text": [
      "20/03/08 21:33:22 INFO client.RMProxy: Connecting to ResourceManager at /0.0.0.0:8032\n",
      "20/03/08 21:33:22 INFO client.RMProxy: Connecting to ResourceManager at /0.0.0.0:8032\n",
      "20/03/08 21:33:23 INFO mapred.FileInputFormat: Total input files to process : 1\n",
      "20/03/08 21:33:23 INFO mapreduce.JobSubmitter: number of splits:2\n",
      "20/03/08 21:33:23 INFO mapreduce.JobSubmitter: Submitting tokens for job: job_1583697892150_0020\n",
      "20/03/08 21:33:23 INFO impl.YarnClientImpl: Submitted application application_1583697892150_0020\n",
      "20/03/08 21:33:23 INFO mapreduce.Job: The url to track the job: http://1a00d52b991a:8088/proxy/application_1583697892150_0020/\n",
      "20/03/08 21:33:23 INFO mapreduce.Job: Running job: job_1583697892150_0020\n",
      "20/03/08 21:33:29 INFO mapreduce.Job: Job job_1583697892150_0020 running in uber mode : false\n",
      "20/03/08 21:33:29 INFO mapreduce.Job:  map 0% reduce 0%\n",
      "20/03/08 21:33:47 INFO mapreduce.Job:  map 5% reduce 0%\n",
      "20/03/08 21:33:53 INFO mapreduce.Job:  map 7% reduce 0%\n",
      "20/03/08 21:33:59 INFO mapreduce.Job:  map 10% reduce 0%\n",
      "20/03/08 21:34:05 INFO mapreduce.Job:  map 12% reduce 0%\n",
      "20/03/08 21:34:11 INFO mapreduce.Job:  map 14% reduce 0%\n",
      "20/03/08 21:34:18 INFO mapreduce.Job:  map 17% reduce 0%\n",
      "20/03/08 21:34:24 INFO mapreduce.Job:  map 19% reduce 0%\n",
      "20/03/08 21:34:30 INFO mapreduce.Job:  map 22% reduce 0%\n",
      "20/03/08 21:34:36 INFO mapreduce.Job:  map 24% reduce 0%\n",
      "20/03/08 21:34:42 INFO mapreduce.Job:  map 27% reduce 0%\n",
      "20/03/08 21:34:48 INFO mapreduce.Job:  map 29% reduce 0%\n",
      "20/03/08 21:34:54 INFO mapreduce.Job:  map 31% reduce 0%\n",
      "20/03/08 21:35:00 INFO mapreduce.Job:  map 34% reduce 0%\n",
      "20/03/08 21:35:06 INFO mapreduce.Job:  map 36% reduce 0%\n",
      "20/03/08 21:35:12 INFO mapreduce.Job:  map 39% reduce 0%\n",
      "20/03/08 21:35:18 INFO mapreduce.Job:  map 41% reduce 0%\n",
      "20/03/08 21:35:24 INFO mapreduce.Job:  map 44% reduce 0%\n",
      "20/03/08 21:35:30 INFO mapreduce.Job:  map 46% reduce 0%\n",
      "20/03/08 21:35:36 INFO mapreduce.Job:  map 48% reduce 0%\n",
      "20/03/08 21:35:42 INFO mapreduce.Job:  map 51% reduce 0%\n",
      "20/03/08 21:35:48 INFO mapreduce.Job:  map 54% reduce 0%\n",
      "20/03/08 21:35:54 INFO mapreduce.Job:  map 56% reduce 0%\n",
      "20/03/08 21:36:00 INFO mapreduce.Job:  map 58% reduce 0%\n",
      "20/03/08 21:36:06 INFO mapreduce.Job:  map 61% reduce 0%\n",
      "20/03/08 21:36:11 INFO mapreduce.Job:  map 62% reduce 0%\n",
      "20/03/08 21:36:12 INFO mapreduce.Job:  map 63% reduce 0%\n",
      "20/03/08 21:36:17 INFO mapreduce.Job:  map 64% reduce 0%\n",
      "20/03/08 21:36:18 INFO mapreduce.Job:  map 65% reduce 0%\n",
      "20/03/08 21:36:23 INFO mapreduce.Job:  map 82% reduce 0%\n",
      "20/03/08 21:36:24 INFO mapreduce.Job:  map 83% reduce 0%\n",
      "20/03/08 21:36:29 INFO mapreduce.Job:  map 100% reduce 0%\n",
      "20/03/08 21:36:42 INFO mapreduce.Job:  map 100% reduce 12%\n",
      "20/03/08 21:36:44 INFO mapreduce.Job:  map 100% reduce 13%\n",
      "20/03/08 21:36:47 INFO mapreduce.Job:  map 100% reduce 25%\n",
      "20/03/08 21:36:50 INFO mapreduce.Job:  map 100% reduce 50%\n",
      "20/03/08 21:36:51 INFO mapreduce.Job:  map 100% reduce 75%\n",
      "20/03/08 21:36:57 INFO mapreduce.Job:  map 100% reduce 100%\n",
      "20/03/08 21:36:58 INFO mapreduce.Job: Job job_1583697892150_0020 completed successfully\n",
      "20/03/08 21:36:58 INFO mapreduce.Job: Counters: 50\n",
      "\tFile System Counters\n",
      "\t\tFILE: Number of bytes read=83696858\n",
      "\t\tFILE: Number of bytes written=168791730\n",
      "\t\tFILE: Number of read operations=0\n",
      "\t\tFILE: Number of large read operations=0\n",
      "\t\tFILE: Number of write operations=0\n",
      "\t\tHDFS: Number of bytes read=76874501\n",
      "\t\tHDFS: Number of bytes written=76752215\n",
      "\t\tHDFS: Number of read operations=30\n",
      "\t\tHDFS: Number of large read operations=0\n",
      "\t\tHDFS: Number of write operations=16\n",
      "\tJob Counters \n",
      "\t\tKilled reduce tasks=1\n",
      "\t\tLaunched map tasks=2\n",
      "\t\tLaunched reduce tasks=8\n",
      "\t\tData-local map tasks=2\n",
      "\t\tTotal time spent by all maps in occupied slots (ms)=348732\n",
      "\t\tTotal time spent by all reduces in occupied slots (ms)=144130\n",
      "\t\tTotal time spent by all map tasks (ms)=348732\n",
      "\t\tTotal time spent by all reduce tasks (ms)=144130\n",
      "\t\tTotal vcore-milliseconds taken by all map tasks=348732\n",
      "\t\tTotal vcore-milliseconds taken by all reduce tasks=144130\n",
      "\t\tTotal megabyte-milliseconds taken by all map tasks=357101568\n",
      "\t\tTotal megabyte-milliseconds taken by all reduce tasks=147589120\n",
      "\tMap-Reduce Framework\n",
      "\t\tMap input records=4100\n",
      "\t\tMap output records=3472288\n",
      "\t\tMap output bytes=76752224\n",
      "\t\tMap output materialized bytes=83696906\n",
      "\t\tInput split bytes=228\n",
      "\t\tCombine input records=0\n",
      "\t\tCombine output records=0\n",
      "\t\tReduce input groups=426241\n",
      "\t\tReduce shuffle bytes=83696906\n",
      "\t\tReduce input records=3472288\n",
      "\t\tReduce output records=3472288\n",
      "\t\tSpilled Records=6944576\n",
      "\t\tShuffled Maps =16\n",
      "\t\tFailed Shuffles=0\n",
      "\t\tMerged Map outputs=16\n",
      "\t\tGC time elapsed (ms)=1807\n",
      "\t\tCPU time spent (ms)=377330\n",
      "\t\tPhysical memory (bytes) snapshot=1898397696\n",
      "\t\tVirtual memory (bytes) snapshot=19661836288\n",
      "\t\tTotal committed heap usage (bytes)=1297088512\n",
      "\tShuffle Errors\n",
      "\t\tBAD_ID=0\n",
      "\t\tCONNECTION=0\n",
      "\t\tIO_ERROR=0\n",
      "\t\tWRONG_LENGTH=0\n",
      "\t\tWRONG_MAP=0\n",
      "\t\tWRONG_REDUCE=0\n",
      "\tFile Input Format Counters \n",
      "\t\tBytes Read=76874273\n",
      "\tFile Output Format Counters \n",
      "\t\tBytes Written=76752215\n",
      "20/03/08 21:36:58 INFO streaming.StreamJob: Output directory: coursera_mr_task21583703200534662\n",
      "cat: `coursera_mr_task21583703200534662': Is a directory\n"
     ]
    }
   ],
   "source": [
    "%%bash\n",
    "\n",
    "OUT_DIR=\"coursera_mr_task2\"$(date +\"%s%6N\")\n",
    "NUM_REDUCERS=8\n",
    "\n",
    "# Stub code for your job\n",
    "# rm $LOGS \n",
    "yarn jar /opt/cloudera/parcels/CDH/lib/hadoop-mapreduce/hadoop-streaming.jar \\\n",
    "    -D mapreduce.job.name=\"TF Assignment\" \\\n",
    "    -D mapreduce.job.reduces=${NUM_REDUCERS} \\\n",
    "    -files mapper.py,reducer.py,/datasets/stop_words_en.txt \\\n",
    "    -mapper \"python mapper.py\" \\\n",
    "    -reducer \"python reducer.py\" \\\n",
    "    -input  /data/wiki/en_articles_part \\\n",
    "    -output ${OUT_DIR} > /dev/null \n",
    "# ... \\\n",
    "# -reducer \"python reducer.py\" \\\n",
    "\n",
    "# yarn jar /usr/local/hadoop-2.8.1/hadoop-streaming.jar \\\n",
    "#     -D mapreduce.job.name=\"Stop Words\" \\\n",
    "#     -D mapreduce.job.reduces=${NUM_REDUCERS} \\\n",
    "#     -files mapper.py,reducer.py,stop_words_en.txt \\\n",
    "#     -mapper \"python mapper.py\" \\\n",
    "#     -reducer \"python reducer.py\" \\\n",
    "#     -input  /data/wiki/en_articles_part \\\n",
    "#     -output ${OUT_DIR} > /dev/null 2> $LOGS\n",
    "\n",
    "hdfs dfs -cat ${OUT_DIR}/* | grep -P  \"labor\\t12\\t\" |cut -f3"
   ]
  },
  {
   "cell_type": "markdown",
   "metadata": {},
   "source": [
    "# "
   ]
  },
  {
   "cell_type": "code",
   "execution_count": null,
   "metadata": {},
   "outputs": [],
   "source": []
  }
 ],
 "metadata": {
  "colab": {
   "collapsed_sections": [],
   "default_view": {},
   "name": "702_to_students.ipynb",
   "provenance": [],
   "version": "0.3.2",
   "views": {}
  },
  "kernelspec": {
   "display_name": "Python 2",
   "language": "python",
   "name": "python2"
  },
  "language_info": {
   "codemirror_mode": {
    "name": "ipython",
    "version": 2
   },
   "file_extension": ".py",
   "mimetype": "text/x-python",
   "name": "python",
   "nbconvert_exporter": "python",
   "pygments_lexer": "ipython2",
   "version": "2.7.12"
  }
 },
 "nbformat": 4,
 "nbformat_minor": 1
}
